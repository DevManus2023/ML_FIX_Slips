#p1.Write a Python Program to Prepare Scatter Plot on Iris Sataset
import pandas as pd
import matplotlib.pyplot as plt
df=pd.read_csv('iris.csv')
plt.scatter(df['SepalLengthCm'],df['SepalWidthCm'])
plt.xlabel('SepalLengthCm')
plt.ylabel('SepalWidthCm')
plt.show()
