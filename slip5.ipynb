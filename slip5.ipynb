#p5.Write a python program Linear_Regression_SimpleData
import numpy as np
x = np.array([0, 1, 2, 3, 4, 5, 6, 7, 8, 9])
y = np.array([1, 3, 2, 5, 7, 8, 8, 9, 10, 12])
mean_x = np.mean(x)
mean_y = np.mean(y)
print(mean_x)
print(mean_y)
#4.5
#6.5
numerator = 0
denominator = 0
n=len(x)
for i in range(n):
  numerator += (x[i] - mean_x) * (y[i] - mean_y)
  denominator += (x[i] - mean_x) ** 2
b1 = numerator / denominator
b0 = mean_y - (b1 * mean_x)
# Print coefficients
print(b0, b1)
#1.2363636363636363 1.1696969696969697
import matplotlib.pyplot as plt
q = b0 + b1 * x
# Ploting Scatter Points
plt.scatter(x, y, c='red', label='Scatter Plot')
plt.plot(x, q, color='blue', label='Regression Line')
plt.xlabel('x values')
plt.ylabel('y values')
plt.legend()
plt.show()
