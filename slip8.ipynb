#8 Write a python program to Implement Decision Tree whether or not to play
tennis.
import numpy as np
import pandas as pd
from sklearn import metrics
df=pd.read_csv('weather.csv')
df
df.head()
from sklearn import preprocessing
string_to_int= preprocessing.LabelEncoder() #transform categorical data into
numerical form
df=df.apply(string_to_int.fit_transform)
df
X = df[['outlook','temperature','humidity','windy'] ]
y= df['play']
from sklearn import tree
clf = tree.DecisionTreeClassifier(criterion = 'entropy')
clf = clf.fit(X, y)
tree.plot_tree(clf)
