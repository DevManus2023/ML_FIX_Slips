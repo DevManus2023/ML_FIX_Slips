#p4.1 Write a python program Linear_Regression_SKLearn
import pandas as pd
df=pd.read_csv('housing_data.csv')
print(df.head(10))
X = df['area (in cm)'].values
Y = df['price in lakhs'].values
from sklearn.linear_model import LinearRegression
from sklearn.metrics import mean_squared_error
n=len(X)
X = X.reshape((n, 1))
reg = LinearRegression()
reg = reg.fit(df[['area (in cm)']], Y)
Y_pred = reg.predict(X)
print(Y_pred)
# Calculating R2 Score
r2_score = reg.score(X, Y)
print(r2_score)
#p6.2 Write a python program Linear_Regression_2
import pandas as pd
df=pd.read_csv('housing_data.csv')
print(df.head(10))
n = len(df)
print (n)
import numpy as np
X = df['area (in cm)'].values
Y = df['price in lakhs'].values
mean_x = np.mean(X)
mean_y = np.mean(Y)
print(mean_x)
print(mean_y)
numerator = 0
denominator = 0
for i in range(n):
numerator += (X[i] - mean_x) * (Y[i] - mean_y)
denominator += (X[i] - mean_x) ** 2
m = numerator / denominator
c = mean_y - (m * mean_x)
# Print coefficients
print(m, c)
import matplotlib.pyplot as plt
# Plotting Values and Regression Line
max_x = np.max(X) + 100
min_x = np.min(X) - 100
# Calculating line values x and y
x = np.linspace(min_x, max_x, 1000)
y = c + m * x
# Ploting Line
plt.plot(x, y, color='blue', label='Regression Line')
# Ploting Scatter Points
plt.scatter(X, Y, c='red', label='Scatter Plot')
plt.xlabel('Area (in cm)')
plt.ylabel('Price in lakhs')
plt.legend()
plt.show()
ss_t = 0
ss_r = 0
for i in range(n):
y_pred = c + m * X[i]
ss_t += (Y[i] - mean_y) ** 2
ss_r += (Y[i] - y_pred) ** 2
r2 = 1 - (ss_r/ss_t)
print(r2)
