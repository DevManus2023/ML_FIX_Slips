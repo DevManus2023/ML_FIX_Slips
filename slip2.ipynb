#p2.Write a Python Program to find all null values in a given data set andd
remove them
import pandas as pd
#import matplotlib.pyplot as plt
df=pd.read_csv('iris_null_values.csv')
print(df)
df.isnull().sum()
df[df['sepal.length'].isnull()]
df[df['sepal.width'].isnull()]
df.fillna('default')
#df.dropna()
